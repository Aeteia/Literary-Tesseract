{
 "cells": [
  {
   "cell_type": "markdown",
   "id": "08c3ccdf",
   "metadata": {},
   "source": [
    "# Literary Tesseract\n",
    "\n",
    "This program is currently designed to extract text from an image. The function used is developed by UB-Mannheim, and can be found here: https://github.com/UB-Mannheim/tesseract/wiki\n",
    "\n",
    "### Future Iterations\n",
    "\n",
    "Future iterations of this program will attempt to:\n",
    "\n",
    "- convert pdf to image\n",
    "\n",
    "- produce a literary corpus of each page\n",
    "\n",
    "- deposit the output of the image text extraction to a document\n",
    "\n",
    "- deposit the corpus output to a document\n",
    "\n",
    "### File system\n",
    "\n",
    "Place this .ipynb file in a root folder, with additional folders:\n",
    "\n",
    "- Input\n",
    "- Output\n",
    "\n",
    "Place your pdfs to be converted into your Input folder.\n",
    "The output.txt document will export to your Output folder.\n",
    "\n",
    "RUN THIS SCRIPT ON ONE DOCUMENT AT A TIME."
   ]
  },
  {
   "cell_type": "code",
   "execution_count": 1,
   "id": "b8f7a5e1",
   "metadata": {},
   "outputs": [],
   "source": [
    "import pytesseract\n",
    "import pdf2image\n",
    "from pdf2image import convert_from_path\n",
    "import os\n",
    "import sys\n",
    "from PIL import Image\n",
    "import glob"
   ]
  },
  {
   "cell_type": "markdown",
   "id": "5a8df0bc",
   "metadata": {},
   "source": [
    "## Extract Pages from PDF"
   ]
  },
  {
   "cell_type": "code",
   "execution_count": 2,
   "id": "d8fd7abd",
   "metadata": {},
   "outputs": [],
   "source": [
    "# Get pages\n",
    "pages = convert_from_path('./Input/Test_1.pdf', 500) # First variable = pdf file & path; second variable = page dpi (quality)\n",
    "image_counter = 1"
   ]
  },
  {
   "cell_type": "code",
   "execution_count": 3,
   "id": "d0658517",
   "metadata": {},
   "outputs": [],
   "source": [
    "# Saving pages in png format\n",
    "for page in pages:\n",
    "    fname = 'page_'+str(image_counter)+'.png'\n",
    "    page.save(fname, 'PNG')\n",
    "    image_counter = image_counter + 1\n",
    "    \n",
    "filelimit = image_counter - 1"
   ]
  },
  {
   "cell_type": "markdown",
   "id": "8eb55ec9",
   "metadata": {},
   "source": [
    "## FOR loop tesseract processing through pages"
   ]
  },
  {
   "cell_type": "code",
   "execution_count": 4,
   "id": "c0c706dc",
   "metadata": {},
   "outputs": [],
   "source": [
    "outfile = 'Output/outtext.txt' # Change outtext to the name of the book you are transcribing.txt\n",
    "\n",
    "f = open(outfile, 'a')\n",
    "# Numbers in brackets next to \"range\" below are the page numbers of your export. So if your document has 405 pages, the line\n",
    "# should read \"for i in range(1, 405)\"\n",
    "for i in range(1, 5):\n",
    "    filename = 'page_'+str(i)+'.png'\n",
    "    pytesseract.pytesseract.tesseract_cmd = r'\\Users\\thomajba\\AppData\\Local\\Tesseract-OCR\\tesseract.exe'\n",
    "    text = str(((pytesseract.image_to_string(Image.open(filename)))))\n",
    "    text = text.replace('-\\n', '')\n",
    "    f.writelines('\\n ~~~~~~~~~~DATA EXTRACTED FROM NEXT PAGE STARTS NOW.~~~~~~~~~~ \\n \\n')\n",
    "    f.writelines(text)\n",
    "\n",
    "f.close()"
   ]
  },
  {
   "cell_type": "code",
   "execution_count": 5,
   "id": "7aafc8b0",
   "metadata": {},
   "outputs": [],
   "source": [
    "# Cleanup images\n",
    "removing_files = glob.glob('../Sarah_Tesseract/*.png')\n",
    "for i in removing_files:\n",
    "    os.remove(i)"
   ]
  },
  {
   "cell_type": "code",
   "execution_count": 7,
   "id": "be6327b6",
   "metadata": {},
   "outputs": [
    {
     "name": "stdout",
     "output_type": "stream",
     "text": [
      ".pdf file converted and read into .txt file \n",
      " individual image files cleaned up \n",
      " have a nice day. \n",
      " 😄\n"
     ]
    }
   ],
   "source": [
    "print('.pdf file converted and read into .txt file \\n individual image files cleaned up \\n have a nice day. \\n \\U0001F604')"
   ]
  },
  {
   "cell_type": "code",
   "execution_count": null,
   "id": "8cc18180",
   "metadata": {},
   "outputs": [],
   "source": []
  }
 ],
 "metadata": {
  "kernelspec": {
   "display_name": "Python 3 (ipykernel)",
   "language": "python",
   "name": "python3"
  },
  "language_info": {
   "codemirror_mode": {
    "name": "ipython",
    "version": 3
   },
   "file_extension": ".py",
   "mimetype": "text/x-python",
   "name": "python",
   "nbconvert_exporter": "python",
   "pygments_lexer": "ipython3",
   "version": "3.8.13"
  }
 },
 "nbformat": 4,
 "nbformat_minor": 5
}
